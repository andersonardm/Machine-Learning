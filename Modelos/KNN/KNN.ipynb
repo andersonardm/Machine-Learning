{
 "cells": [
  {
   "cell_type": "code",
   "execution_count": 1,
   "metadata": {},
   "outputs": [],
   "source": [
    "import pandas as pd\n",
    "import numpy as np\n",
    "from sklearn.neighbors import KNeighborsRegressor\n",
    "from sklearn.model_selection import train_test_split\n",
    "from sklearn.metrics import r2_score, mean_squared_error, mean_absolute_error"
   ]
  },
  {
   "cell_type": "code",
   "execution_count": 13,
   "metadata": {},
   "outputs": [
    {
     "name": "stdout",
     "output_type": "stream",
     "text": [
      "MSE (Erro Quadrado Médio): 156.39291277258567\n",
      "MAE (Erro Médio Absoluto): 5.1806853582554515\n",
      "R2 Score: 0.961226471183228\n"
     ]
    }
   ],
   "source": [
    "df_CO2 = pd.read_csv(\"../DataFrame/ConsumoCo2.csv\")\n",
    "x = df_CO2[[\"ENGINESIZE\", \"CYLINDERS\", \"FUELCONSUMPTION_CITY\", \"FUELCONSUMPTION_HWY\", \"FUELCONSUMPTION_COMB\", \"FUELCONSUMPTION_COMB_MPG\"]]\n",
    "y = df_CO2.CO2EMISSIONS\n",
    "\n",
    "x_train, x_test, y_train, y_test = train_test_split(x, y, test_size=0.3, random_state=42)\n",
    "\n",
    "knn = KNeighborsRegressor(n_neighbors = 4)\n",
    "\n",
    "knn.fit(x_train, y_train)\n",
    "\n",
    "pred = knn.predict(x_test)\n",
    "\n",
    "print(f\"MSE (Erro Quadrado Médio): {mean_squared_error(y_test, pred)}\")\n",
    "print(f\"MAE (Erro Médio Absoluto): {mean_absolute_error(y_test, pred)}\")\n",
    "print(f\"R2 Score: {r2_score(y_test, pred)}\")"
   ]
  }
 ],
 "metadata": {
  "kernelspec": {
   "display_name": "Python 3",
   "language": "python",
   "name": "python3"
  },
  "language_info": {
   "codemirror_mode": {
    "name": "ipython",
    "version": 3
   },
   "file_extension": ".py",
   "mimetype": "text/x-python",
   "name": "python",
   "nbconvert_exporter": "python",
   "pygments_lexer": "ipython3",
   "version": "3.12.3"
  }
 },
 "nbformat": 4,
 "nbformat_minor": 2
}
